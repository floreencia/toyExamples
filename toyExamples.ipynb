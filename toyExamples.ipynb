{
 "cells": [
  {
   "cell_type": "code",
   "execution_count": 1,
   "metadata": {
    "collapsed": true
   },
   "outputs": [],
   "source": [
    "import numpy as np"
   ]
  },
  {
   "cell_type": "code",
   "execution_count": 137,
   "metadata": {
    "collapsed": false
   },
   "outputs": [
    {
     "data": {
      "text/plain": [
       "array(['a', 'a', 'b', 'b', 'b', 'c'], \n",
       "      dtype='|S1')"
      ]
     },
     "execution_count": 137,
     "metadata": {},
     "output_type": "execute_result"
    }
   ],
   "source": [
    "s1 = 'aabbbc'\n",
    "s2 = 'a2b3c'\n",
    "# you can transform strings into numpy arrays and back\n",
    "a1 = np.array(list(s1)) # ''.join(a1)\n",
    "a1"
   ]
  },
  {
   "cell_type": "code",
   "execution_count": 103,
   "metadata": {
    "collapsed": false
   },
   "outputs": [
    {
     "data": {
      "text/plain": [
       "array([False,  True, False,  True,  True, False], dtype=bool)"
      ]
     },
     "execution_count": 103,
     "metadata": {},
     "output_type": "execute_result"
    }
   ],
   "source": [
    "def fun1(x):\n",
    "    '''true false vector\n",
    "    Flase when character changes'''\n",
    "    TF = np.zeros_like(x, dtype=bool)\n",
    "    TF[1:] = x[:-1] == x[1:]\n",
    "    return TF\n",
    "    \n",
    "def fun2(x):\n",
    "    '''1rst character vector'''\n",
    "    return x[~fun1(x)]\n",
    "\n",
    "def fun3(x):\n",
    "    '''count number repetitions'''\n",
    "    ix0 = np.where(fun1(x) == False)[0]\n",
    "    ix = np.hstack((ix0, [len(x)]))\n",
    "    return np.diff(ix)\n",
    "\n",
    "def fun4(x):\n",
    "    '''compress string'''\n",
    "    a1 = fun2(x) # get first char\n",
    "    a2 = fun3(x) # count repetitions\n",
    "    a3 = ['{}{}'.format(ch, a2[i]) for i, ch in enumerate(a1)] # aggregate\n",
    "    s0 = ''.join(a3)\n",
    "    return s0.replace('1', '')"
   ]
  },
  {
   "cell_type": "code",
   "execution_count": 145,
   "metadata": {
    "collapsed": false
   },
   "outputs": [
    {
     "data": {
      "text/plain": [
       "'xa2b2a5'"
      ]
     },
     "execution_count": 145,
     "metadata": {},
     "output_type": "execute_result"
    }
   ],
   "source": [
    "a = np.array(list('xaabbaaaaa')) # ''.join(a1)\n",
    "fun4(a)"
   ]
  }
 ],
 "metadata": {
  "kernelspec": {
   "display_name": "Python 2",
   "language": "python",
   "name": "python2"
  },
  "language_info": {
   "codemirror_mode": {
    "name": "ipython",
    "version": 2
   },
   "file_extension": ".py",
   "mimetype": "text/x-python",
   "name": "python",
   "nbconvert_exporter": "python",
   "pygments_lexer": "ipython2",
   "version": "2.7.6"
  }
 },
 "nbformat": 4,
 "nbformat_minor": 0
}
